{
  "nbformat": 4,
  "nbformat_minor": 0,
  "metadata": {
    "colab": {
      "provenance": []
    },
    "kernelspec": {
      "name": "python3",
      "display_name": "Python 3"
    },
    "language_info": {
      "name": "python"
    }
  },
  "cells": [
    {
      "cell_type": "markdown",
      "source": [
        "### **Орищенко Виталий**\n",
        "#### Группа 1\n",
        "#### @Vitosh992"
      ],
      "metadata": {
        "id": "T2zlnI-Bz1JO"
      }
    },
    {
      "cell_type": "code",
      "execution_count": 87,
      "metadata": {
        "id": "P8L3323vxTOb"
      },
      "outputs": [],
      "source": [
        "import numpy as np"
      ]
    },
    {
      "cell_type": "markdown",
      "source": [
        "####Задание 1"
      ],
      "metadata": {
        "id": "8ilw0J_oxaxi"
      }
    },
    {
      "cell_type": "code",
      "source": [
        "a = np.matrix([[1, 2, 1],[-2, 1, 1]]) # Вносим матрицы из условия\n",
        "b = np.matrix([[3, 1],[-1, 0],[2,4]])\n",
        "c = np.matrix([[-2, 2],[1, -1],[1,2]])\n"
      ],
      "metadata": {
        "id": "5tfmw8Thxcjd"
      },
      "execution_count": 88,
      "outputs": []
    },
    {
      "cell_type": "code",
      "source": [
        "try: # Так как размерность матрицы A и B различна, а складывать мы можем только матрицы отдной размерности, создадим структуру try/except,\n",
        "  print(a+2*b) # которая будет реагировать на ошибку ValueError, и в этом случае матрица А будет транспонироваться\n",
        "except ValueError:\n",
        "  a = np.transpose(a)\n",
        "  print(a+2*b)"
      ],
      "metadata": {
        "colab": {
          "base_uri": "https://localhost:8080/"
        },
        "id": "mg7cPDU4yr9J",
        "outputId": "b449e00e-8c52-4ca3-f5e4-79a345b07d34"
      },
      "execution_count": 89,
      "outputs": [
        {
          "output_type": "stream",
          "name": "stdout",
          "text": [
            "[[7 0]\n",
            " [0 1]\n",
            " [5 9]]\n"
          ]
        }
      ]
    },
    {
      "cell_type": "code",
      "source": [
        "print(b+2*c) # Со вторым выражением проблем нет, поэтому просто выводим результат"
      ],
      "metadata": {
        "colab": {
          "base_uri": "https://localhost:8080/"
        },
        "id": "IdSct898zip9",
        "outputId": "82401e1c-2f58-4f7d-d250-fe49a8b6dc14"
      },
      "execution_count": 90,
      "outputs": [
        {
          "output_type": "stream",
          "name": "stdout",
          "text": [
            "[[-1  5]\n",
            " [ 1 -2]\n",
            " [ 4  8]]\n"
          ]
        }
      ]
    },
    {
      "cell_type": "markdown",
      "source": [
        "####Задание 2"
      ],
      "metadata": {
        "id": "NWPjvW5lLdMp"
      }
    },
    {
      "cell_type": "code",
      "source": [
        "z = np.zeros((8,8), dtype = int)\n",
        "z[1::2, ::2] = 1  # Нечетные строки, четные столбцы\n",
        "z[::2, 1::2] = 1  # Четные строки, нечетные столбцы\n",
        "print(z)"
      ],
      "metadata": {
        "colab": {
          "base_uri": "https://localhost:8080/"
        },
        "id": "H1BZgMfwLeXA",
        "outputId": "cc227b91-4ec0-4ee9-9515-af3e2f8d5c56"
      },
      "execution_count": 91,
      "outputs": [
        {
          "output_type": "stream",
          "name": "stdout",
          "text": [
            "[[0 1 0 1 0 1 0 1]\n",
            " [1 0 1 0 1 0 1 0]\n",
            " [0 1 0 1 0 1 0 1]\n",
            " [1 0 1 0 1 0 1 0]\n",
            " [0 1 0 1 0 1 0 1]\n",
            " [1 0 1 0 1 0 1 0]\n",
            " [0 1 0 1 0 1 0 1]\n",
            " [1 0 1 0 1 0 1 0]]\n"
          ]
        }
      ]
    },
    {
      "cell_type": "markdown",
      "source": [
        "####Задание 3"
      ],
      "metadata": {
        "id": "bX5YwkGbQjPp"
      }
    },
    {
      "cell_type": "code",
      "source": [
        "v1 = np.arange(0, 1.5, 0.1) # наполняем два вектора до в рамках значений с шагом 0.1 и 1\n",
        "v2 = np.arange(1,7,1)\n",
        "v1 = v1.reshape((5,3)) # изменяем размерность массивов до необходимой\n",
        "v2 = v2.reshape((3,2))\n",
        "m1 = np.dot(v1,v2) # Проводим умножение полученных матриц\n",
        "print(v1)\n"
      ],
      "metadata": {
        "colab": {
          "base_uri": "https://localhost:8080/"
        },
        "id": "7C-1UT0QQkVU",
        "outputId": "0e6ca6b4-ce20-4811-e88f-bf01c073f9ed"
      },
      "execution_count": 92,
      "outputs": [
        {
          "output_type": "stream",
          "name": "stdout",
          "text": [
            "[[0.  0.1 0.2]\n",
            " [0.3 0.4 0.5]\n",
            " [0.6 0.7 0.8]\n",
            " [0.9 1.  1.1]\n",
            " [1.2 1.3 1.4]]\n"
          ]
        }
      ]
    },
    {
      "cell_type": "code",
      "source": [
        "print(v2)"
      ],
      "metadata": {
        "colab": {
          "base_uri": "https://localhost:8080/"
        },
        "id": "I3HhRKliRq-i",
        "outputId": "4a079967-be8c-40ca-d4b8-ea675cf9fd82"
      },
      "execution_count": 93,
      "outputs": [
        {
          "output_type": "stream",
          "name": "stdout",
          "text": [
            "[[1 2]\n",
            " [3 4]\n",
            " [5 6]]\n"
          ]
        }
      ]
    },
    {
      "cell_type": "code",
      "source": [
        "print(m1)"
      ],
      "metadata": {
        "colab": {
          "base_uri": "https://localhost:8080/"
        },
        "id": "0RTy-WcAScbQ",
        "outputId": "3f66eba8-f422-4c98-bb8b-2ffbac702eaf"
      },
      "execution_count": 94,
      "outputs": [
        {
          "output_type": "stream",
          "name": "stdout",
          "text": [
            "[[ 1.3  1.6]\n",
            " [ 4.   5.2]\n",
            " [ 6.7  8.8]\n",
            " [ 9.4 12.4]\n",
            " [12.1 16. ]]\n"
          ]
        }
      ]
    },
    {
      "cell_type": "markdown",
      "source": [
        "####Задание 4"
      ],
      "metadata": {
        "id": "SoXiUgJXR6o-"
      }
    },
    {
      "cell_type": "code",
      "source": [
        "v3 = np.arange(1,72,2, dtype = \"int32\") # Создаем массив по исходному условию\n",
        "print(v3)"
      ],
      "metadata": {
        "colab": {
          "base_uri": "https://localhost:8080/"
        },
        "id": "_TzbJ34-R3JR",
        "outputId": "c6c88803-e39b-4b93-d9ae-e7240875ce85"
      },
      "execution_count": 95,
      "outputs": [
        {
          "output_type": "stream",
          "name": "stdout",
          "text": [
            "[ 1  3  5  7  9 11 13 15 17 19 21 23 25 27 29 31 33 35 37 39 41 43 45 47\n",
            " 49 51 53 55 57 59 61 63 65 67 69 71]\n"
          ]
        }
      ]
    },
    {
      "cell_type": "code",
      "source": [
        "result = v3[v3 % 3 == 0] # По условию кратности 3 отбираем необходимые элементы\n",
        "print(result)"
      ],
      "metadata": {
        "colab": {
          "base_uri": "https://localhost:8080/"
        },
        "id": "e06EUwLdULat",
        "outputId": "f552d0b8-2d93-4121-806b-ae9fab3ff606"
      },
      "execution_count": 96,
      "outputs": [
        {
          "output_type": "stream",
          "name": "stdout",
          "text": [
            "[ 3  9 15 21 27 33 39 45 51 57 63 69]\n"
          ]
        }
      ]
    }
  ]
}